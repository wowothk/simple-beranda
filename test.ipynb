{
 "cells": [
  {
   "cell_type": "code",
   "execution_count": 1,
   "metadata": {},
   "outputs": [],
   "source": [
    "from connect_database import run_query, open_ssh_tunnel, mysql_connect, mysql_disconnect"
   ]
  },
  {
   "cell_type": "code",
   "execution_count": 2,
   "metadata": {},
   "outputs": [],
   "source": [
    "open_ssh_tunnel()\n",
    "mysql_connect()"
   ]
  },
  {
   "cell_type": "code",
   "execution_count": null,
   "metadata": {},
   "outputs": [],
   "source": [
    "keaktifan = \"\"\"\n",
    "SELECT kota, kecamatan, kelurahan,\n",
    "    (\n",
    "    IF(bamuskal > 0,1,0) + IF(covid > 0,1,0) + IF(dukuh > 0,1,0) + IF(kepen_agama > 0,1,0) +\n",
    "    IF(kepen_dusun > 0,1,0) + IF(kepen_kawin > 0,1,0) + IF(kepen_kerja > 0,1,0) + IF(kepen_pend > 0,1,0) +\n",
    "    IF(kepen_tumbuh > 0,1,0) + IF(kepen_usia > 0,1,0) + IF(kesej_kerja > 0,1,0) + IF(kesej_penduduk > 0,1,0) +\n",
    "    IF(keu_pendapatan > 0,1,0) + IF(keu_pengeluaran > 0,1,0) + IF(layanan > 0,1,0) + IF(lembaga > 0,1,0) +\n",
    "    IF(pegawai > 0,1,0) + IF(sarana_ibadah > 0,1,0) + IF(sarana_kebersihan > 0,1,0) + IF(sarana_kesehatan > 0,1,0) +\n",
    "    IF(sarana_pendidikan > 0,1,0) + IF(sarana_sanitasi > 0,1,0) + IF(sarana_transportasi > 0,1,0) + IF(staff > 0,1,0) +\n",
    "    IF(wilayah > 0,1,0) + IF(wilayah_batas > 0,1,0) + IF(wilayah_luas > 0,1,0) + IF(wilayah_orbitasi > 0,1,0) +\n",
    "    IF(wilayah_tipologi > 0,1,0)\n",
    "    )/29 * 100 AS persen\n",
    "  FROM (\n",
    "    SELECT \n",
    "      kotaNama AS kota,\n",
    "      kecNama AS kecamatan,\n",
    "      kelNama AS kelurahan,\n",
    "      (SELECT COUNT(*) FROM dt_bamuskal WHERE dt_bamuskal.`baKelId` = kelId) AS bamuskal,\n",
    "      (SELECT COUNT(*) FROM dt_covid WHERE dt_covid.`covKelId` = kelId AND DATE_FORMAT(dt_covid.`covTanggal`,'Y') = '\".$tahun.\"' ) AS covid,\n",
    "      (SELECT COUNT(*) FROM dt_dukuh WHERE dt_dukuh.`dukKelId` = kelId ) AS dukuh,\n",
    "      (SELECT COUNT(*) FROM dt_kepen_agama WHERE dt_kepen_agama.`kaKelId` = kelId AND dt_kepen_agama.`kaTahun` = '\".$tahun.\"' ) AS kepen_agama,\n",
    "      (SELECT COUNT(*) FROM dt_kepen_dusun WHERE dt_kepen_dusun.`kdKelId` = kelId AND dt_kepen_dusun.`kdTahun` = '\".$tahun.\"' ) AS kepen_dusun,\n",
    "      (SELECT COUNT(*) FROM dt_kepen_kawin WHERE dt_kepen_kawin.`kwKelId` = kelId AND dt_kepen_kawin.`kwTahun` = '\".$tahun.\"' ) AS kepen_kawin,\n",
    "      (SELECT COUNT(*) FROM dt_kepen_kerja WHERE dt_kepen_kerja.`kkKelId` = kelId AND dt_kepen_kerja.`kkTahun` = '\".$tahun.\"' ) AS kepen_kerja,\n",
    "      (SELECT COUNT(*) FROM dt_kepen_pendidikan WHERE dt_kepen_pendidikan.`kpKelId` = kelId AND dt_kepen_pendidikan.`kpTahun` = '\".$tahun.\"' ) AS kepen_pend,\n",
    "      (SELECT COUNT(*) FROM dt_kepen_tumbuh WHERE dt_kepen_tumbuh.`ktKelId` = kelId AND dt_kepen_tumbuh.`ktTahun` = '\".$tahun.\"' ) AS kepen_tumbuh,\n",
    "      (SELECT COUNT(*) FROM dt_kepen_usia WHERE dt_kepen_usia.`kuKelId` = kelId AND dt_kepen_usia.`kuTahun` = '\".$tahun.\"' ) AS kepen_usia,\n",
    "      (SELECT COUNT(*) FROM dt_kesej_kerja WHERE dt_kesej_kerja.`kkKelId` = kelId AND dt_kesej_kerja.`kkTahun` = '\".$tahun.\"' ) AS kesej_kerja,\n",
    "      (SELECT COUNT(*) FROM dt_kesej_penduduk WHERE dt_kesej_penduduk.`kpKelId` = kelId AND dt_kesej_penduduk.`kpTahun` = '\".$tahun.\"') AS kesej_penduduk,\n",
    "      (SELECT COUNT(*) FROM dt_keu_pendapatan WHERE dt_keu_pendapatan.`kpKelId` = kelId AND dt_keu_pendapatan.`kpTahun` = '\".$tahun.\"') AS keu_pendapatan,\n",
    "      (SELECT COUNT(*) FROM dt_keu_pengeluaran WHERE dt_keu_pengeluaran.`kpKelId` = kelId AND dt_keu_pengeluaran.`kpTahun` = '\".$tahun.\"') AS keu_pengeluaran,\n",
    "      (SELECT COUNT(*) FROM dt_layanan WHERE dt_layanan.`laKelId` = kelId ) AS layanan,\n",
    "      (SELECT COUNT(*) FROM dt_lembaga WHERE dt_lembaga.`lemKelId` = kelId) AS lembaga,\n",
    "      (SELECT COUNT(*) FROM dt_pegawai WHERE dt_pegawai.`pegKelId` = kelId AND dt_pegawai.`pegNama` IS NOT NULL) AS pegawai,\n",
    "      (SELECT COUNT(*) FROM dt_sarana_ibadah WHERE dt_sarana_ibadah.`siKelId` = kelId) AS sarana_ibadah,\n",
    "      (SELECT COUNT(*) FROM dt_sarana_kebersihan WHERE dt_sarana_kebersihan.`skKelId` = kelId) AS sarana_kebersihan,\n",
    "      (SELECT COUNT(*) FROM dt_sarana_kesehatan WHERE dt_sarana_kesehatan.`skKelId` = kelId) AS sarana_kesehatan,\n",
    "      (SELECT COUNT(*) FROM dt_sarana_pendidikan WHERE dt_sarana_pendidikan.`spKelId` = kelId) AS sarana_pendidikan,\n",
    "      (SELECT COUNT(*) FROM dt_sarana_sanitasi WHERE dt_sarana_sanitasi.`ssKelId` = kelId) AS sarana_sanitasi,\n",
    "      (SELECT COUNT(*) FROM dt_sarana_transportasi WHERE dt_sarana_transportasi.`stKelId` = kelId) AS sarana_transportasi,\n",
    "      (SELECT COUNT(*) FROM dt_staff WHERE dt_staff.`stKelId` = kelId) AS staff,\n",
    "      (SELECT COUNT(*) FROM dt_wilayah WHERE dt_wilayah.`wilKelId` = kelId) AS wilayah,\n",
    "      (SELECT COUNT(*) FROM dt_wilayah_batas WHERE dt_wilayah_batas.`wbKelId` = kelId) AS wilayah_batas,\n",
    "      (SELECT COUNT(*) FROM dt_wilayah_luas WHERE dt_wilayah_luas.`wlKelId` = kelId) AS wilayah_luas,\n",
    "      (SELECT COUNT(*) FROM dt_wilayah_orbitasi WHERE dt_wilayah_orbitasi.`woKelId` = kelId) AS wilayah_orbitasi,\n",
    "      (SELECT COUNT(*) FROM dt_wilayah_tipologi WHERE dt_wilayah_tipologi.`wtKelId` = kelId) AS wilayah_tipologi\n",
    "    FROM kelurahan\n",
    "    JOIN ref_kecamatan ON ref_kecamatan.`kecKode` = kelKecKode\n",
    "    JOIN ref_kota ON ref_kota.`kotakode` = ref_kecamatan.`kecKotaKode`\n",
    "\n",
    "    ORDER BY kotaNama, kecNama, kelNama\n",
    "  ) tbl;\n",
    "\"\"\"\n",
    "\n",
    "df_keaktifan = run_query(keaktifan)"
   ]
  },
  {
   "cell_type": "code",
   "execution_count": null,
   "metadata": {},
   "outputs": [],
   "source": [
    "df_keaktifan.sort_values(\"persen\", ascending=False)"
   ]
  },
  {
   "cell_type": "code",
   "execution_count": null,
   "metadata": {},
   "outputs": [],
   "source": [
    "jumlah_desa = \"\"\"\n",
    "    SELECT COUNT(*) FROM kelurahan;\n",
    "\"\"\"\n",
    "\n",
    "jml_desa = run_query(jumlah_desa)"
   ]
  },
  {
   "cell_type": "code",
   "execution_count": null,
   "metadata": {},
   "outputs": [],
   "source": [
    "update_harian = \"\"\"\n",
    "    SELECT COUNT(*), DATE(pTgl) FROM pengajuan GROUP BY DATE(pengajuan.pTgl);\n",
    "\"\"\"\n",
    "\n",
    "update_harian = run_query(update_harian)"
   ]
  },
  {
   "cell_type": "code",
   "execution_count": null,
   "metadata": {},
   "outputs": [],
   "source": [
    "update_harian"
   ]
  },
  {
   "cell_type": "code",
   "execution_count": null,
   "metadata": {},
   "outputs": [],
   "source": []
  },
  {
   "cell_type": "markdown",
   "metadata": {},
   "source": [
    "### Sarana Kebersihan"
   ]
  },
  {
   "cell_type": "code",
   "execution_count": 3,
   "metadata": {},
   "outputs": [],
   "source": [
    "data_sarana_kebersihan = \"\"\"\n",
    "    SELECT rp.proNama , rk2.kotaNama , rk.kecNama, k.kelNama , \n",
    "    dsk.skHidran , dsk.skPenampung, dsk.skMataAir , dsk.skPengelolaanAir , \n",
    "    dsk.skSumurGali , dsk.skSumurPompa , dsk.skTangkiAir \n",
    "    FROM dt_sarana_kebersihan dsk\n",
    "    INNER JOIN kelurahan k on k.kelId = dsk.skKelId \n",
    "    INNER JOIN ref_kecamatan rk on k.kelKecKode = rk.kecKode \n",
    "    INNER JOIN ref_kota rk2 on rk.kecKotaKode = rk2.kotakode\n",
    "    INNER JOIN ref_provinsi rp on rp.proKode = rk2.kotaProKode;\n",
    "\"\"\"\n",
    "\n",
    "kebersihan = run_query(data_sarana_kebersihan)"
   ]
  },
  {
   "cell_type": "code",
   "execution_count": 19,
   "metadata": {},
   "outputs": [],
   "source": [
    "x = kebersihan.groupby([\"proNama\", \"kotaNama\", \"kecNama\"])"
   ]
  },
  {
   "cell_type": "code",
   "execution_count": 35,
   "metadata": {},
   "outputs": [
    {
     "ename": "KeyError",
     "evalue": "('Daerah Istimewa Yogyakarta', 'Kabupaten Kulon Progo', None)",
     "output_type": "error",
     "traceback": [
      "\u001b[0;31m---------------------------------------------------------------------------\u001b[0m",
      "\u001b[0;31mKeyError\u001b[0m                                  Traceback (most recent call last)",
      "\u001b[0;32m/var/folders/pg/3sr7t46900g4xmjmrwp347t40000gn/T/ipykernel_18717/642810042.py\u001b[0m in \u001b[0;36m<module>\u001b[0;34m\u001b[0m\n\u001b[0;32m----> 1\u001b[0;31m \u001b[0mx\u001b[0m\u001b[0;34m.\u001b[0m\u001b[0mget_group\u001b[0m\u001b[0;34m(\u001b[0m\u001b[0;34m(\u001b[0m\u001b[0;34m\"Daerah Istimewa Yogyakarta\"\u001b[0m\u001b[0;34m,\u001b[0m \u001b[0;34m\"Kabupaten Kulon Progo\"\u001b[0m\u001b[0;34m,\u001b[0m \u001b[0;32mNone\u001b[0m\u001b[0;34m)\u001b[0m\u001b[0;34m)\u001b[0m\u001b[0;34m\u001b[0m\u001b[0;34m\u001b[0m\u001b[0m\n\u001b[0m",
      "\u001b[0;32m/Library/Frameworks/Python.framework/Versions/3.10/lib/python3.10/site-packages/pandas/core/groupby/groupby.py\u001b[0m in \u001b[0;36mget_group\u001b[0;34m(self, name, obj)\u001b[0m\n\u001b[1;32m    745\u001b[0m         \u001b[0minds\u001b[0m \u001b[0;34m=\u001b[0m \u001b[0mself\u001b[0m\u001b[0;34m.\u001b[0m\u001b[0m_get_index\u001b[0m\u001b[0;34m(\u001b[0m\u001b[0mname\u001b[0m\u001b[0;34m)\u001b[0m\u001b[0;34m\u001b[0m\u001b[0;34m\u001b[0m\u001b[0m\n\u001b[1;32m    746\u001b[0m         \u001b[0;32mif\u001b[0m \u001b[0;32mnot\u001b[0m \u001b[0mlen\u001b[0m\u001b[0;34m(\u001b[0m\u001b[0minds\u001b[0m\u001b[0;34m)\u001b[0m\u001b[0;34m:\u001b[0m\u001b[0;34m\u001b[0m\u001b[0;34m\u001b[0m\u001b[0m\n\u001b[0;32m--> 747\u001b[0;31m             \u001b[0;32mraise\u001b[0m \u001b[0mKeyError\u001b[0m\u001b[0;34m(\u001b[0m\u001b[0mname\u001b[0m\u001b[0;34m)\u001b[0m\u001b[0;34m\u001b[0m\u001b[0;34m\u001b[0m\u001b[0m\n\u001b[0m\u001b[1;32m    748\u001b[0m \u001b[0;34m\u001b[0m\u001b[0m\n\u001b[1;32m    749\u001b[0m         \u001b[0;32mreturn\u001b[0m \u001b[0mobj\u001b[0m\u001b[0;34m.\u001b[0m\u001b[0m_take_with_is_copy\u001b[0m\u001b[0;34m(\u001b[0m\u001b[0minds\u001b[0m\u001b[0;34m,\u001b[0m \u001b[0maxis\u001b[0m\u001b[0;34m=\u001b[0m\u001b[0mself\u001b[0m\u001b[0;34m.\u001b[0m\u001b[0maxis\u001b[0m\u001b[0;34m)\u001b[0m\u001b[0;34m\u001b[0m\u001b[0;34m\u001b[0m\u001b[0m\n",
      "\u001b[0;31mKeyError\u001b[0m: ('Daerah Istimewa Yogyakarta', 'Kabupaten Kulon Progo', None)"
     ]
    }
   ],
   "source": [
    "x.get_group((\"Daerah Istimewa Yogyakarta\", \"Kabupaten Kulon Progo\", \"\"))"
   ]
  },
  {
   "cell_type": "code",
   "execution_count": 43,
   "metadata": {},
   "outputs": [
    {
     "data": {
      "text/plain": [
       "skHidran\n",
       "Ada          10\n",
       "Tidak Ada    17\n",
       "Name: proNama, dtype: int64"
      ]
     },
     "execution_count": 43,
     "metadata": {},
     "output_type": "execute_result"
    }
   ],
   "source": [
    "kebersihan.query(\"(proNama == 'Daerah Istimewa Yogyakarta') & (kotaNama == 'Kabupaten Bantul')\").groupby(\"skHidran\").count()[\"proNama\"]"
   ]
  },
  {
   "cell_type": "code",
   "execution_count": null,
   "metadata": {},
   "outputs": [],
   "source": []
  }
 ],
 "metadata": {
  "kernelspec": {
   "display_name": "Python 3.10.1 64-bit",
   "language": "python",
   "name": "python3"
  },
  "language_info": {
   "codemirror_mode": {
    "name": "ipython",
    "version": 3
   },
   "file_extension": ".py",
   "mimetype": "text/x-python",
   "name": "python",
   "nbconvert_exporter": "python",
   "pygments_lexer": "ipython3",
   "version": "3.10.1"
  },
  "orig_nbformat": 4,
  "vscode": {
   "interpreter": {
    "hash": "7e1998ff7f8aa20ada591c520b972326324e5ea05489af9e422744c7c09f6dad"
   }
  }
 },
 "nbformat": 4,
 "nbformat_minor": 2
}
